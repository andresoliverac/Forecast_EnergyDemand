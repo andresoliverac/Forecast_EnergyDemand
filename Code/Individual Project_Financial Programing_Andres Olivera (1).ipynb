{
 "cells": [
  {
   "cell_type": "markdown",
   "metadata": {},
   "source": [
    "## INDIVIDUAL PROJECT - Andres Olivera Caceres\n"
   ]
  },
  {
   "cell_type": "markdown",
   "metadata": {},
   "source": [
    "## Web Scrapping"
   ]
  },
  {
   "cell_type": "code",
   "execution_count": null,
   "metadata": {},
   "outputs": [],
   "source": [
    "import requests\n",
    "import pandas as pd\n",
    "from requests import get\n",
    "from requests.exceptions import RequestException\n",
    "from contextlib import closing\n",
    "from bs4 import BeautifulSoup"
   ]
  },
  {
   "cell_type": "code",
   "execution_count": null,
   "metadata": {},
   "outputs": [],
   "source": [
    "pip install beautifulsoup4"
   ]
  },
  {
   "cell_type": "code",
   "execution_count": null,
   "metadata": {},
   "outputs": [],
   "source": [
    "url = \"https://www.epexspot.com/en/market-data/intradaycontinuous/intraday-table/2018-01-01/DE\"\n",
    "headers = {'User-Agent': 'Mozilla/5.0 (Windows NT 6.3; Win64; x64) AppleWebKit/537.36 (KHTML, like Gecko) Chrome/54.0.2840.71 Safari/537.36'}\n",
    "r = requests.get(url, headers=headers)"
   ]
  },
  {
   "cell_type": "code",
   "execution_count": null,
   "metadata": {},
   "outputs": [],
   "source": [
    "#Iniyiate BS\n",
    "soup = BeautifulSoup(r.content, \"html.parser\")\n",
    "#Find right table\n",
    "table = soup.find_all('table')[0]\n",
    "# get the needed part\n",
    "rows = table.find_all('tr')\n"
   ]
  },
  {
   "cell_type": "code",
   "execution_count": null,
   "metadata": {},
   "outputs": [],
   "source": [
    "#Start empty list\n",
    "row_list = list()\n",
    "# Iterate into all data and append it into a list\n",
    "for tr in rows:\n",
    "    td = tr.find_all('td')\n",
    "    row = [i.text for i in td]\n",
    "    row_list.append(row)"
   ]
  },
  {
   "cell_type": "markdown",
   "metadata": {},
   "source": [
    "## Data Manipulation "
   ]
  },
  {
   "cell_type": "code",
   "execution_count": null,
   "metadata": {},
   "outputs": [],
   "source": [
    "import pandas as pd \n",
    "from matplotlib import pyplot as plt\n",
    "import numpy as np \n"
   ]
  },
  {
   "cell_type": "code",
   "execution_count": null,
   "metadata": {},
   "outputs": [],
   "source": [
    "df = pd.read_csv('C:/Users/aolivera/OneDrive - IESEG/IESEG/Courses/Python/Individual project/IntradayContinuousEPEXSPOT_DE.csv')"
   ]
  },
  {
   "cell_type": "code",
   "execution_count": null,
   "metadata": {
    "scrolled": true
   },
   "outputs": [],
   "source": [
    "df.head()"
   ]
  },
  {
   "cell_type": "code",
   "execution_count": null,
   "metadata": {
    "scrolled": false
   },
   "outputs": [],
   "source": [
    "timeseries = df[['DateTime','Weighted_Avg']]\n",
    "timeseries.info()"
   ]
  },
  {
   "cell_type": "code",
   "execution_count": null,
   "metadata": {},
   "outputs": [],
   "source": [
    "#Check if there are inconsitencies in value\n",
    "timeseries.describe()"
   ]
  },
  {
   "cell_type": "code",
   "execution_count": null,
   "metadata": {},
   "outputs": [],
   "source": [
    "timeseries1 = timeseries"
   ]
  },
  {
   "cell_type": "code",
   "execution_count": null,
   "metadata": {
    "scrolled": true
   },
   "outputs": [],
   "source": [
    "#Make 'DateTime' a date type\n",
    "timeseries1['DateTime'] =  pd.to_datetime(timeseries1['DateTime'], format='%Y-%m-%d')\n",
    "timeseries1.info()"
   ]
  },
  {
   "cell_type": "code",
   "execution_count": null,
   "metadata": {
    "scrolled": true
   },
   "outputs": [],
   "source": [
    "#Drop NA \n",
    "timeseries1 = timeseries1.dropna()\n",
    "timeseries1.info()"
   ]
  },
  {
   "cell_type": "code",
   "execution_count": null,
   "metadata": {},
   "outputs": [],
   "source": [
    "#Make DateTiem index\n",
    "timeseries1 = timeseries1.set_index(['DateTime'])\n",
    "timeseries1.tail(5)"
   ]
  },
  {
   "cell_type": "markdown",
   "metadata": {},
   "source": [
    "## Forecast Prep"
   ]
  },
  {
   "cell_type": "code",
   "execution_count": null,
   "metadata": {},
   "outputs": [],
   "source": [
    "import joblib \n",
    "from statsmodels.graphics.tsaplots import plot_acf, plot_pacf\n",
    "from statsmodels.tsa.stattools import adfuller \n",
    "from statsmodels.tsa.statespace.sarimax import SARIMAX"
   ]
  },
  {
   "cell_type": "code",
   "execution_count": null,
   "metadata": {
    "scrolled": false
   },
   "outputs": [],
   "source": [
    "# Plot data Set\n",
    "timeseries1.plot(figsize=(25,10))\n",
    "plt.show()"
   ]
  },
  {
   "cell_type": "code",
   "execution_count": null,
   "metadata": {},
   "outputs": [],
   "source": [
    "# Dicky-Fuller test to see if it's stationary (Trend)\n",
    "DickyF_test = adfuller(timeseries1['Weighted_Avg']) \n",
    "print(DickyF_test)"
   ]
  },
  {
   "cell_type": "code",
   "execution_count": null,
   "metadata": {},
   "outputs": [],
   "source": [
    "##Not necessary\n",
    "# Subtract long rolling average over N steps \n",
    "#timeseries1_1 = timeseries1 - timeseries1.rolling(50).mean()  \n",
    "# Drop NaN values \n",
    "#timeseries1_1 = timeseries1_1.dropna()"
   ]
  },
  {
   "cell_type": "code",
   "execution_count": null,
   "metadata": {
    "scrolled": false
   },
   "outputs": [],
   "source": [
    "#Check if it's statinnary\n",
    "# plot_acf\n",
    "fig, (ax1, ax2) = plt.subplots(2,1, figsize=(8,8))\n",
    "plot_acf(timeseries1, lags=10, zero=False, ax=ax1)\n",
    " # Make PACF plot \n",
    "plot_pacf(timeseries1, lags=10, zero=False, ax=ax2) \n",
    "plt.show()"
   ]
  },
  {
   "cell_type": "markdown",
   "metadata": {},
   "source": [
    "## Forecast"
   ]
  },
  {
   "cell_type": "code",
   "execution_count": null,
   "metadata": {
    "scrolled": true
   },
   "outputs": [],
   "source": [
    "!pip install pmdarima\n",
    "from pmdarima import auto_arima\n",
    "from pmdarima.arima import auto_arima"
   ]
  },
  {
   "cell_type": "code",
   "execution_count": null,
   "metadata": {},
   "outputs": [],
   "source": [
    "# Get best model using auto_arima \n",
    "best_model = auto_arima( timeseries1,             # data \n",
    "                          d=0,            # non-seasonal difference order \n",
    "                          start_p=1,      # initial guess for p                          \n",
    "                          start_q=1,      # initial guess for q \n",
    "                          max_p=3,        # max value of p to test                          \n",
    "                          max_q=3,        # max value of q to test\n",
    "                          information_criterion='aic', \n",
    "                          trace=True,\n",
    "                          error_action='ignore'\n",
    "                        )"
   ]
  },
  {
   "cell_type": "code",
   "execution_count": null,
   "metadata": {},
   "outputs": [],
   "source": [
    "##Print results of best model\n",
    "# Make in-sample prediction forecast = results.get_prediction(start=-25\n",
    "print(best_model.summary())"
   ]
  },
  {
   "cell_type": "code",
   "execution_count": null,
   "metadata": {},
   "outputs": [],
   "source": [
    "# Plot graphs to analyze results\n",
    "best_model.plot_diagnostics(figsize=(18, 8))\n",
    "plt.show()"
   ]
  },
  {
   "cell_type": "code",
   "execution_count": null,
   "metadata": {
    "scrolled": true
   },
   "outputs": [],
   "source": [
    "#Recheck with this procedure\n",
    "order_aic_bic =[] \n",
    "# Loop over AR order \n",
    "for p in range(4):    \n",
    "    # Loop over MA order   \n",
    "    for q in range(4):          \n",
    "        try:             \n",
    "            # Fit model             \n",
    "            model = SARIMAX(timeseries1, order=(p,0,q))            \n",
    "            results = model.fit() \n",
    " \n",
    "            # Add order and scores to list           \n",
    "            order_aic_bic.append((p, q, results.aic, results.bic))       \n",
    "        except:             \n",
    "            # Print AIC and BIC as None when fails  \n",
    "            order_aic_bic.append((p, q, None, None))    \n",
    "            \n",
    "# Make DataFrame of model order and AIC/BIC scores \n",
    "order_df = pd.DataFrame(order_aic_bic, columns=['p','q', 'aic', 'bic'])\n",
    "\n",
    "                        \n",
    "print(order_df.sort_values('aic'))\n",
    "                        \n"
   ]
  },
  {
   "cell_type": "code",
   "execution_count": null,
   "metadata": {},
   "outputs": [],
   "source": [
    "#select model with the lowest AIC \n",
    "best_model_normal = SARIMAX(timeseries1, order=(3, 0, 1))\n",
    "                        \n",
    "\n",
    "best_model_fit = best_model_normal.fit()\n",
    "print(best_model_fit.summary().tables[1])"
   ]
  },
  {
   "cell_type": "code",
   "execution_count": null,
   "metadata": {},
   "outputs": [],
   "source": [
    "#Plot the diagnostic of the model fit\n",
    "best_model_fit.plot_diagnostics(figsize=(18, 8))\n",
    "plt.show()"
   ]
  },
  {
   "cell_type": "code",
   "execution_count": null,
   "metadata": {
    "scrolled": true
   },
   "outputs": [],
   "source": [
    "# In sample Predictions static\n",
    "\n",
    "# One step predictions \n",
    "forecast_pred = best_model_fit.get_prediction(start=pd.to_datetime('2018-12-01'), dynamic=False)\n",
    "# forecast mean \n",
    "mean_forecast_pred= forecast_pred.predicted_mean\n",
    "# Get confidence intervals of forecasts \n",
    "confidence_intervals_pred = forecast_pred.conf_int()"
   ]
  },
  {
   "cell_type": "code",
   "execution_count": null,
   "metadata": {},
   "outputs": [],
   "source": [
    "# Plot In sample prediction\n",
    "figure(figsize=(25,10)) \n",
    "# plot the amazon data\n",
    "plt.plot(timeseries1['2018-11-01':], label='observed')\n",
    "\n",
    "# plot your mean predictions\n",
    "plt.plot(mean_forecast_pred['2018-11-01':], color='r', label='forecast',alpha=.5)\n",
    "\n",
    "plt.fill_between(confidence_intervals_pred.index,confidence_intervals_pred.loc['2018-11-01':,'lower Weighted_Avg'], \n",
    "               confidence_intervals_pred.loc['2018-11-01':,'upper Weighted_Avg'], color='Pink')\n",
    "\n",
    "# set labels, legends and show plot\n",
    "plt.xlabel('Date')\n",
    "plt.ylabel('EXPEX Price')\n",
    "plt.legend()\n",
    "plt.show()"
   ]
  },
  {
   "cell_type": "code",
   "execution_count": null,
   "metadata": {},
   "outputs": [],
   "source": [
    "# In sample prediction Dynamic\n",
    "\n",
    "forecast_dym = best_model_fit.get_prediction(start=pd.to_datetime('2018-12-01'), dynamic=True)\n",
    "# forecast mean \n",
    "mean_forecast_dym = forecast_dym.predicted_mean\n",
    "# Get confidence intervals of forecasts \n",
    "confidence_intervals_dym = forecast_dym.conf_int()"
   ]
  },
  {
   "cell_type": "code",
   "execution_count": null,
   "metadata": {},
   "outputs": [],
   "source": [
    "#Plot In sample prediction Dynamic\n",
    "\n",
    "figure(figsize=(25,10)) \n",
    "# plot the amazon data\n",
    "plt.plot(timeseries1['2018-11-01':], label='observed')\n",
    "\n",
    "# plot your mean predictions\n",
    "plt.plot(mean_forecast_dym['2018-11-01':], color='r', label='forecast',alpha=.5)\n",
    "\n",
    "plt.fill_between(confidence_intervals_dym.index,confidence_intervals_dym.loc['2018-11-01':,'lower Weighted_Avg'], \n",
    "               confidence_intervals_dym.loc['2018-11-01':,'upper Weighted_Avg'], color='Pink')\n",
    "\n",
    "# set labels, legends and show plot\n",
    "plt.xlabel('Date')\n",
    "plt.ylabel('EXPEX Price')\n",
    "plt.legend()\n",
    "plt.show()"
   ]
  },
  {
   "cell_type": "code",
   "execution_count": null,
   "metadata": {
    "scrolled": false
   },
   "outputs": [],
   "source": [
    "# FORECAST\n",
    "\n",
    "# One step predictions \n",
    "forecast_r = best_model_fit.get_forecast(steps=30)\n",
    "# forecast mean \n",
    "mean_forecast_r = forecast_r.predicted_mean\n",
    "# Get confidence intervals of forecasts \n",
    "confidence_intervals_r = forecast_r.conf_int()"
   ]
  },
  {
   "cell_type": "code",
   "execution_count": null,
   "metadata": {},
   "outputs": [],
   "source": [
    "#Data prep to plot it\n",
    "\n",
    "#Add date and make it the index\n",
    "confidence_intervals_r.index = ['2019-01-01','2019-01-02', '2019-01-03','2019-01-04','2019-01-05','2019-01-06','2019-01-07','2019-01-08','2019-01-09','2019-01-10','2019-01-11','2019-01-12','2019-01-13','2019-01-14','2019-01-15','2019-01-16','2019-01-17','2019-01-18','2019-01-19','2019-01-20','2019-01-21','2019-01-22','2019-01-23','2019-01-24','2019-01-25','2019-01-26','2019-01-27','2019-01-28','2019-01-29','2019-01-30']\n",
    "confidence_intervals_r = pd.DataFrame(confidence_intervals_r)\n",
    "confidence_intervals_r = confidence_intervals_r.reset_index()\n",
    "confidence_intervals_r = confidence_intervals_r.rename(columns = {'index': 'DateTime'})\n",
    "confidence_intervals_r['DateTime'] =  pd.to_datetime(confidence_intervals_r['DateTime'], format='%Y-%m-%d %H:%M')\n",
    "confidence_intervals_r = confidence_intervals_r.set_index('DateTime')\n",
    "confidence_intervals_r.head()"
   ]
  },
  {
   "cell_type": "code",
   "execution_count": null,
   "metadata": {},
   "outputs": [],
   "source": [
    "#Data prep to plot it\n",
    "\n",
    "#Add date and make it the index\n",
    "mean_forecast_r.index = ['2019-01-01','2019-01-02', '2019-01-03','2019-01-04','2019-01-05','2019-01-06','2019-01-07','2019-01-08','2019-01-09','2019-01-10','2019-01-11','2019-01-12','2019-01-13','2019-01-14','2019-01-15','2019-01-16','2019-01-17','2019-01-18','2019-01-19','2019-01-20','2019-01-21','2019-01-22','2019-01-23','2019-01-24','2019-01-25','2019-01-26','2019-01-27','2019-01-28','2019-01-29','2019-01-30']\n",
    "mean_forecast_r = pd.DataFrame(mean_forecast_r)\n",
    "mean_forecast_r = mean_forecast_r.reset_index()\n",
    "mean_forecast_r = mean_forecast_r.rename(columns = {'index': 'DateTime'})\n",
    "mean_forecast_r['DateTime'] =  pd.to_datetime(mean_forecast_r['DateTime'], format='%Y-%m-%d %H:%M')\n",
    "mean_forecast_r = mean_forecast_r.set_index('DateTime')\n"
   ]
  },
  {
   "cell_type": "code",
   "execution_count": null,
   "metadata": {},
   "outputs": [],
   "source": [
    "#Plot Forecast way 1\n",
    "\n",
    "ax = mean_forecast_pred.plot(label='Real auction price', figsize=(14, 4))\n",
    "mean_forecast_r.plot(ax=ax, label='Forecast')\n",
    "ax.fill_between(confidence_intervals_r.index,\n",
    "                confidence_intervals_r.iloc[:, 0],\n",
    "                confidence_intervals_r.iloc[:, 1], color='k', alpha=.25)\n",
    "ax.set_xlabel('DateTime')\n",
    "ax.set_ylabel('Prices')\n",
    "plt.legend()\n",
    "plt.show()"
   ]
  },
  {
   "cell_type": "code",
   "execution_count": null,
   "metadata": {
    "scrolled": false
   },
   "outputs": [],
   "source": [
    "# Plot Forecast way 2\n",
    "\n",
    "figure(figsize=(25,10))\n",
    "# plot the amazon data\n",
    "plt.plot(mean_forecast_pred['2018-11-01':], label='observed')\n",
    "\n",
    "# plot your mean predictions\n",
    "plt.plot(mean_forecast_r, color='r', label='forecast')\n",
    "\n",
    "plt.fill_between(confidence_intervals_r.index,confidence_intervals_r.loc['2019-01-01':,'lower Weighted_Avg'], \n",
    "               confidence_intervals_r.loc['2019-01-01':,'upper Weighted_Avg'], color='Pink')\n",
    "# set labels, legends and show plot\n",
    "plt.xlabel('Date')\n",
    "plt.ylabel('Amazon Stock Price - Close USD')\n",
    "plt.legend()\n",
    "plt.show()"
   ]
  },
  {
   "cell_type": "markdown",
   "metadata": {},
   "source": [
    "## Visualization Bokeh"
   ]
  },
  {
   "cell_type": "code",
   "execution_count": null,
   "metadata": {},
   "outputs": [],
   "source": [
    "from bokeh.plotting import figure, output_file, show\n",
    "from bokeh.layouts import column\n",
    "from bokeh.layouts import row\n",
    "\n",
    "# Import Panel from bokeh.models.widgets\n",
    "from bokeh.models.widgets import Panel\n",
    "\n",
    "# Import Tabs from bokeh.models.widgets\n",
    "from bokeh.models.widgets import Tabs\n",
    "\n",
    "#Import for slicer\n",
    "from bokeh.io import curdoc\n",
    "from bokeh.layouts import widgetbox\n",
    "from bokeh.models import Slider\n",
    "\n",
    "from bokeh.models import HoverTool"
   ]
  },
  {
   "cell_type": "code",
   "execution_count": null,
   "metadata": {},
   "outputs": [],
   "source": [
    "### Original Data Set ###\n",
    "\n",
    "# Create a figure with x_axis_type='datetime': p\n",
    "p5 = figure(x_axis_type='datetime', x_axis_label='Date', y_axis_label='US Dollars',plot_width=1200, title = 'EPEX Germany Prices 2014-2018')\n",
    "\n",
    "# Plot date along the x-axis and price along the y-axis\n",
    "p5.line(timeseries['DateTime'], timeseries['Weighted_Avg'], legend='Original Data')\n",
    "\n",
    "p5.legend.location = 'top_left'\n",
    "\n"
   ]
  },
  {
   "cell_type": "code",
   "execution_count": null,
   "metadata": {},
   "outputs": [],
   "source": [
    "# Data prep to plot Forecast\n",
    "\n",
    "# Make it DataFrame and add names\n",
    "a = pd.DataFrame(mean_forecast_pred, columns = ['Price'])\n",
    "a = a.reset_index()\n",
    "a = a.rename(columns = {'DateTime': 'DateTime'})\n",
    "a.head()"
   ]
  },
  {
   "cell_type": "code",
   "execution_count": null,
   "metadata": {
    "scrolled": true
   },
   "outputs": [],
   "source": [
    "# Data prep to plot Forecast\n",
    "\n",
    "#Reset index\n",
    "fore = mean_forecast_r\n",
    "fore = mean_forecast_r.reset_index()\n",
    "fore.head()"
   ]
  },
  {
   "cell_type": "code",
   "execution_count": null,
   "metadata": {},
   "outputs": [],
   "source": [
    "## Forecasting Graph ##\n",
    "\n",
    "# Create a figure with x_axis_type='datetime': p\n",
    "p6 = figure(x_axis_type='datetime', x_axis_label='Date', y_axis_label='US Dollars', plot_width=1200, title = 'One month prices forcast')\n",
    "\n",
    "# Plot date along the x-axis and price along the y-axis\n",
    "p6.line(a['DateTime'], a['Price'], legend='EXPEX Data')\n",
    "                       \n",
    "p6.line(fore['DateTime'],fore[0], line_color='red', legend='Forcast' )\n",
    "\n",
    "p6.legend.location = 'top_left'\n",
    "    \n",
    "\n"
   ]
  },
  {
   "cell_type": "code",
   "execution_count": null,
   "metadata": {},
   "outputs": [],
   "source": [
    "## TABS ##\n",
    "\n",
    "# Create tab1 from plot p1: tab1\n",
    "tab1 = Panel(child=p5, title='Origianl Data')\n",
    "\n",
    "# Create tab2 from plot p2: tab2\n",
    "tab2 = Panel(child=p6, title='Forecast')\n",
    "\n",
    "# Create tab3 from plot p3: tab3\n",
    "#tab3 = Panel(child=p3, title='Asia')\n",
    "\n",
    "# Create tab4 from plot p4: tab4\n",
    "#tab4 = Panel(child=p4, title='Europe')\n",
    "\n",
    "# Create a Tabs layout: layout\n",
    "layout = Tabs(tabs=[tab1, tab2])\n",
    "\n",
    "# Specify the name of the output_file and show the result\n",
    "output_file('tabs.html')\n",
    "show(layout)\n"
   ]
  },
  {
   "cell_type": "code",
   "execution_count": null,
   "metadata": {},
   "outputs": [],
   "source": [
    "# Worling code but tabs are used ## LAYOUT ROW Forcasting and Initial data##\n",
    "\n",
    "# Create a figure with x_axis_type='datetime': p\n",
    "#p = figure(x_axis_type='datetime', x_axis_label='Date', y_axis_label='US Dollars',plot_width=500)\n",
    "\n",
    "# Plot date along the x-axis and price along the y-axis\n",
    "#p.line(timeseries['DateTime'], timeseries['Weighted_Avg'])\n",
    "\n",
    "\n",
    "# Create a figure with x_axis_type='datetime': p\n",
    "##p2 = figure(x_axis_type='datetime', x_axis_label='Date', y_axis_label='US Dollars', plot_width=500)\n",
    "\n",
    "# Plot date along the x-axis and price along the y-axis\n",
    "##p2.line(a['DateTime'], a['Price'])\n",
    "                       \n",
    "##p2.line(fore['DateTime'],fore[0], line_color='red' )\n",
    "\n",
    "##rrr = row(p, p2)\n",
    "                       \n",
    "# Specify the name of the output file and show the result\n",
    "##output_file('row.html')\n",
    "##show(rrr)"
   ]
  },
  {
   "cell_type": "code",
   "execution_count": null,
   "metadata": {},
   "outputs": [],
   "source": [
    "# Worling code but tabs are used ## LAYOUT COL Forcasting and Initial data##\n",
    "\n",
    "# Create a figure with x_axis_type='datetime': p\n",
    "##p = figure(x_axis_type='datetime', x_axis_label='Date', y_axis_label='US Dollars',plot_width=500)\n",
    "\n",
    "# Plot date along the x-axis and price along the y-axis\n",
    "##p.line(timeseries['DateTime'], timeseries['Weighted_Avg'])\n",
    "\n",
    "\n",
    "# Create a figure with x_axis_type='datetime': p\n",
    "##p2 = figure(x_axis_type='datetime', x_axis_label='Date', y_axis_label='US Dollars', plot_width=1500)\n",
    "\n",
    "# Plot date along the x-axis and price along the y-axis\n",
    "##p2.line(a['DateTime'], a['Price'])\n",
    "                       \n",
    "##p2.line(fore['DateTime'],fore[0], line_color='red' )\n",
    "\n",
    "##lll = row(p, p2)\n",
    "                       \n",
    "# Specify the name of the output file and show the result\n",
    "##output_file('row.html')\n",
    "##show(lll)"
   ]
  },
  {
   "cell_type": "code",
   "execution_count": null,
   "metadata": {},
   "outputs": [],
   "source": [
    "## Slicer ##\n",
    "\n",
    "# Create a slider: slider\n",
    "#slider = Slider(title = 'my slider', start=0, end=10, step=0.1, value=2)\n",
    "\n",
    "# Create a widgetbox layout: layout\n",
    "##layout = column(widgetbox(slider), p5)\n",
    "\n",
    "# Add the layout to the current document\n",
    "##curdoc().add_root(layout)\n",
    "\n",
    "#show(layout)"
   ]
  },
  {
   "cell_type": "code",
   "execution_count": null,
   "metadata": {},
   "outputs": [],
   "source": [
    "# Create ColumnDataSource: source\n",
    "##source = ColumnDataSource(data={'x': x, 'y': y})\n",
    "\n",
    "# Add a line to the plot\n",
    "##plot.line('x', 'y', source=source)\n",
    "\n",
    "# Create a column layout: layout\n",
    "##layout = column(widgetbox(slider), plot)\n",
    "\n",
    "# Add the layout to the current document\n",
    "##curdoc().add_root(layout)"
   ]
  },
  {
   "cell_type": "code",
   "execution_count": null,
   "metadata": {},
   "outputs": [],
   "source": [
    "##def callback(attr, old, new):\n",
    "\n",
    "    # Read the current value of the slider: scale\n",
    "    ##scale = slider.value\n",
    "\n",
    "    # Compute the updated y using np.sin(scale/x): new_y\n",
    "    ##new_y = scale\n",
    "\n",
    "    # Update source with the new data values\n",
    "    ##y = \n",
    "\n",
    "# Attach the callback to the 'value' property of slider\n",
    "##slider.on_change('value', callback)\n",
    "\n",
    "# Create layout and add to current document\n",
    "##layout = column(widgetbox(slider), plot)\n",
    "##curdoc().add_root(layout)"
   ]
  },
  {
   "cell_type": "code",
   "execution_count": null,
   "metadata": {},
   "outputs": [],
   "source": [
    "#import ipywidgets as widgets\n",
    "#from IPython.display import display\n",
    "#import matplotlib.pyplot as plt\n",
    "#import numpy as np\n",
    "\n",
    "#%matplotlib nbagg"
   ]
  },
  {
   "cell_type": "code",
   "execution_count": null,
   "metadata": {},
   "outputs": [],
   "source": [
    "#x = np.linspace(0, 2, 1000)\n",
    "#fig, ax = plt.subplots(1, figsize=(10, 4))\n",
    "#plt.suptitle('Sine Wave')\n",
    "\n",
    "\n",
    "#def update_plot(amp, phase, freq):\n",
    "    \n",
    "   # ax.clear()\n",
    "    #y = amp * np.sin(freq * 2 * np.pi * x + phase * 2 * np.pi)\n",
    "    #units = 'amp = {} $(psi)$ \\nphase = {} $(s)$ \\nfreq = {} $(Hz)$'\n",
    "    \n",
    "    #ax.plot(x, y, label=units.format(amp, phase, freq))\n",
    "    #ax.set_xlim(x[0], x[-1])\n",
    "    #ax.legend(loc=1)\n",
    "    #ax.set_xlabel('$(s)$')\n",
    "    #plt.show()\n",
    "\n",
    "\n",
    "##amp = widgets.FloatSlider(min=1, max=10, value=1, description='Amp:')\n",
    "##phase = widgets.FloatSlider(min=0, max=5, value=0, description='Phase:')\n",
    "##freq = widgets.FloatSlider(min=1, max=10, value=1, description='Freq:')\n",
    "    \n",
    "##widgets.interactive(update_plot, amp=amp, phase=phase, freq=freq)"
   ]
  }
 ],
 "metadata": {
  "kernelspec": {
   "display_name": "Python 3",
   "language": "python",
   "name": "python3"
  },
  "language_info": {
   "codemirror_mode": {
    "name": "ipython",
    "version": 3
   },
   "file_extension": ".py",
   "mimetype": "text/x-python",
   "name": "python",
   "nbconvert_exporter": "python",
   "pygments_lexer": "ipython3",
   "version": "3.7.3"
  }
 },
 "nbformat": 4,
 "nbformat_minor": 2
}
